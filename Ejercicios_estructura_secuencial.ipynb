{
  "nbformat": 4,
  "nbformat_minor": 0,
  "metadata": {
    "colab": {
      "provenance": [],
      "collapsed_sections": [
        "PaQOPX2RDbKx",
        "tIgSOopvQ74W",
        "qHyTfynPVk3M",
        "DdC4E8zP38TI"
      ],
      "include_colab_link": true
    },
    "kernelspec": {
      "name": "python3",
      "display_name": "Python 3"
    },
    "language_info": {
      "name": "python"
    }
  },
  "cells": [
    {
      "cell_type": "markdown",
      "metadata": {
        "id": "view-in-github",
        "colab_type": "text"
      },
      "source": [
        "<a href=\"https://colab.research.google.com/github/Tonono29/ArFoundation/blob/main/Ejercicios_estructura_secuencial.ipynb\" target=\"_parent\"><img src=\"https://colab.research.google.com/assets/colab-badge.svg\" alt=\"Open In Colab\"/></a>"
      ]
    },
    {
      "cell_type": "markdown",
      "source": [
        "### Ejercicio 1\n",
        "\n",
        "Escribir un programa que pregunte al usuario su nombre, y luego lo salude.\n",
        "\n"
      ],
      "metadata": {
        "id": "PaQOPX2RDbKx"
      }
    },
    {
      "cell_type": "code",
      "source": [
        "# Almeria OE Ejercicio 1\n",
        "name=in(str(\"Como te llamas vicente ? \"))\n",
        "print(f\"Dejame que adivine, a que te llamas ... {name} \")"
      ],
      "metadata": {
        "colab": {
          "base_uri": "https://localhost:8080/"
        },
        "id": "iVGLHp3sZPpr",
        "outputId": "00735d47-99f8-4bcd-f0a7-9f02a751504c"
      },
      "execution_count": null,
      "outputs": [
        {
          "output_type": "stream",
          "name": "stdout",
          "text": [
            "Como te llamas vicente ? Tonono\n",
            "Dejame que adivine, a que te llamas ... Tonono \n"
          ]
        }
      ]
    },
    {
      "cell_type": "markdown",
      "source": [
        "### Ejercicio 2\n",
        "\n",
        "Calcular el perímetro 2*(base + altura) y área de un rectángulo (base * altura) dada su base y su altura.\n"
      ],
      "metadata": {
        "id": "tIgSOopvQ74W"
      }
    },
    {
      "cell_type": "code",
      "source": [
        "# Almeria OE Ejercicio 2\n",
        "base=float(input(\"Dame la base socio \"))\n",
        "altura=float(input(\"Dame la altura socio \"))\n",
        "print(f\"Con {base} de base y {altura} de altura el permitro es {2*(base+altura)} y el area es {base*altura}\")"
      ],
      "metadata": {
        "colab": {
          "base_uri": "https://localhost:8080/"
        },
        "id": "yLComx2DbcPk",
        "outputId": "05cd41a1-c666-4bcf-9a8e-f86ce37e7a64"
      },
      "execution_count": null,
      "outputs": [
        {
          "output_type": "stream",
          "name": "stdout",
          "text": [
            "Dame la base socio 2\n",
            "Dame la altura socio 3\n",
            "Con 2.0 de base y 3.0 de altura el permitro es 10.0 y el area es 6.0\n"
          ]
        }
      ]
    },
    {
      "cell_type": "code",
      "source": [
        "from google.colab import drive\n",
        "drive.mount('/content/drive')"
      ],
      "metadata": {
        "id": "KyBnATGx_qSx"
      },
      "execution_count": null,
      "outputs": []
    },
    {
      "cell_type": "markdown",
      "source": [],
      "metadata": {
        "id": "LYv46rw7_sQx"
      }
    },
    {
      "cell_type": "markdown",
      "source": [],
      "metadata": {
        "id": "OM8O90Oy_tE4"
      }
    },
    {
      "cell_type": "code",
      "source": [],
      "metadata": {
        "id": "wddEILr0_tjD"
      },
      "execution_count": null,
      "outputs": []
    },
    {
      "cell_type": "markdown",
      "source": [
        "### Ejercicio 3\n",
        "\n",
        "Dados los catetos de un triángulo rectángulo, calcular su hipotenusa.\n",
        "\n",
        "Pista: Teorema de Pitágoras: $c^2 = a^2 + b^2$\n",
        "\n"
      ],
      "metadata": {
        "id": "qHyTfynPVk3M"
      }
    },
    {
      "cell_type": "code",
      "source": [
        "#Almeria oe ejercicio 3\n",
        "from math import sqrt as raiz\n",
        "cateto=float(input(\"Dame un cate\"))\n",
        "cato=float(input(\"Dame un cato\"))\n",
        "print(f\"La hipotenusa es {raiz((cateto**2)+(cato**2 ))}\")"
      ],
      "metadata": {
        "colab": {
          "base_uri": "https://localhost:8080/"
        },
        "id": "HvKyL5Aecfu2",
        "outputId": "2ce7377e-06fa-41c0-ebe4-7db3e5e50f1f"
      },
      "execution_count": null,
      "outputs": [
        {
          "output_type": "stream",
          "name": "stdout",
          "text": [
            "Dame un cate4.4\n",
            "Dame un cato8\n",
            "La hipotenusa es 9.130169768410662\n"
          ]
        }
      ]
    },
    {
      "cell_type": "code",
      "source": [],
      "metadata": {
        "id": "Jn2FaXuqdxOP"
      },
      "execution_count": null,
      "outputs": []
    },
    {
      "cell_type": "markdown",
      "source": [
        "### Ejercicio 4\n",
        "\n",
        "Dados dos números, mostrar la suma, resta, división y multiplicación de ambos."
      ],
      "metadata": {
        "id": "DdC4E8zP38TI"
      }
    },
    {
      "cell_type": "code",
      "source": [
        "# Almeria OE ejercicio 4\n",
        "num1=float(input(\"Introduce el nunero 1 : \"))\n",
        "num2=float(input(\"Introduce el nunero 2 : \"))\n",
        "print(f\"La suma de los numeros es {num1+num2} la resta es {num1-num2} la division es {num1/num2} y la multipliacion es {num1*num2}\")"
      ],
      "metadata": {
        "colab": {
          "base_uri": "https://localhost:8080/"
        },
        "id": "t7J1SSdkiXOJ",
        "outputId": "9b5ae01e-ca79-4c7c-b7a5-9517cd007fff"
      },
      "execution_count": null,
      "outputs": [
        {
          "output_type": "stream",
          "name": "stdout",
          "text": [
            "Introduce el nunero 1 : 4\n",
            "Introduce el nunero 2 : 2\n",
            "La suma de los numeros es 6.0 la resta es 2.0 la division es 2.0 y la multipliacion es 8.0\n"
          ]
        }
      ]
    },
    {
      "cell_type": "markdown",
      "source": [
        "### Ejercicio 5\n",
        "\n",
        "Escribir un programa que convierta un valor dado en grados Fahrenheit a grados Celsius. Recordar que la fórmula para la conversión es: $ (F-39)*5/9 $"
      ],
      "metadata": {
        "id": "FfDcYcE5WBy4"
      }
    },
    {
      "cell_type": "code",
      "source": [
        "# Almeria OE ejercicio 5\n",
        "grados=float(input(\"Introduce los grados Fahrenheit :\"))\n",
        "print(f\"Eso son {(((grados-32)*5)/9)}\")"
      ],
      "metadata": {
        "colab": {
          "base_uri": "https://localhost:8080/"
        },
        "id": "8jR92e5JkjG4",
        "outputId": "1119f051-0360-40fa-8edc-5531103ce9eb"
      },
      "execution_count": null,
      "outputs": [
        {
          "output_type": "stream",
          "name": "stdout",
          "text": [
            "Introduce los grados Fahrenheit :100\n",
            "Eso son 37.77777777777778\n"
          ]
        }
      ]
    },
    {
      "cell_type": "markdown",
      "source": [
        "### Ejercicio 6\n",
        "\n",
        "Calcular la media de tres números pedidos por teclado."
      ],
      "metadata": {
        "id": "k6eCxEUg48qd"
      }
    },
    {
      "cell_type": "code",
      "source": [
        "# Almeria OE ejercicio 6\n",
        "num1=float(input(\"Introduce el numero 1 :\"))\n",
        "num2=float(input(\"Introduce el numero 2 :\"))\n",
        "num3=float(input(\"Introduce el numero 3 :\"))\n",
        "print(f\"La media de los 3 numeros es : {(num1+num2+num3)/3}\")"
      ],
      "metadata": {
        "colab": {
          "base_uri": "https://localhost:8080/"
        },
        "id": "qBqKnC8Ul40S",
        "outputId": "2b964309-3d7c-4551-c050-dd62fe0c1ddd"
      },
      "execution_count": null,
      "outputs": [
        {
          "output_type": "stream",
          "name": "stdout",
          "text": [
            "Introduce el numero 1 :2\n",
            "Introduce el numero 2 :2\n",
            "Introduce el numero 3 :2\n",
            "La media de los 3 numeros es : 2.0\n"
          ]
        }
      ]
    },
    {
      "cell_type": "markdown",
      "source": [],
      "metadata": {
        "id": "ZDmcb7Erl4LK"
      }
    },
    {
      "cell_type": "markdown",
      "source": [
        "### Ejercicio 7\n",
        "\n",
        "Realiza un programa que reciba una cantidad de minutos y muestre por pantalla a cuantas horas y minutos corresponde.\n",
        "\n",
        "Por ejemplo: **1000 minutos** son **16 horas y 40 minutos**."
      ],
      "metadata": {
        "id": "3ew9qX8m6G4u"
      }
    },
    {
      "cell_type": "code",
      "source": [
        "# Almeria Oe ejercicio 7\n",
        "minutos=float(input(\"Introduce la cantidad de minutos :\"))\n",
        "print(f\"eso son {minutos//60} horas y {minutos%60} minutos\")"
      ],
      "metadata": {
        "colab": {
          "base_uri": "https://localhost:8080/"
        },
        "id": "hTatYW1nmZp5",
        "outputId": "392cce8c-3816-4e1e-9ccd-59faedc0af46"
      },
      "execution_count": null,
      "outputs": [
        {
          "output_type": "stream",
          "name": "stdout",
          "text": [
            "Introduce la cantidad de minutos :1000\n",
            "eso son 16.0 horas y 40.0 minutos\n"
          ]
        }
      ]
    },
    {
      "cell_type": "markdown",
      "source": [
        "\n",
        "\n",
        "### Ejercicio 8\n",
        "\n",
        "Un vendedor recibe un sueldo base mas un 10% extra por comisión de sus ventas, el vendedor desea saber cuanto dinero obtendrá por concepto de comisiones por las tres ventas que realiza en el mes y el total que recibirá en el mes tomando en cuenta su sueldo base y comisiones."
      ],
      "metadata": {
        "id": "ue2__J1LwH3l"
      }
    },
    {
      "cell_type": "code",
      "source": [
        "# Almeria Oe Ejercicio 8\n",
        "sueldo=float(input(\"Introduce el sueldo base :\"))\n",
        "venta1=float(input(\"Introduce la primera venta :\"))\n",
        "venta2=float(input(\"Introduce la segunda venta :\"))\n",
        "venta3=float(input(\"Introduce la tercera venta :\"))\n",
        "comisiones=(venta1+venta2+venta3)*0.1\n",
        "print(f\" De comisiones vas a ganar {comisiones} y en total vas  cobrar {sueldo+comisiones} \")"
      ],
      "metadata": {
        "colab": {
          "base_uri": "https://localhost:8080/"
        },
        "id": "gZfe_mR8nSs-",
        "outputId": "982cd9e0-97f4-4ac1-fb4c-85362f217b1c"
      },
      "execution_count": null,
      "outputs": [
        {
          "output_type": "stream",
          "name": "stdout",
          "text": [
            "Introduce el sueldo base :1000\n",
            "Introduce la primera venta :100\n",
            "Introduce la segunda venta :100\n",
            "Introduce la tercera venta :100\n",
            " De comisiones vas a ganar 30.0 y en total vas  cobrar 1030.0 \n"
          ]
        }
      ]
    },
    {
      "cell_type": "markdown",
      "source": [
        "\n",
        "\n",
        "### Ejercicio 9\n",
        "\n",
        "Una tienda ofrece un descuento del 15% sobre el total de la compra y un cliente desea saber cuanto deberá pagar finalmente por su compra."
      ],
      "metadata": {
        "id": "Al7VKlsS0Sva"
      }
    },
    {
      "cell_type": "code",
      "source": [
        "#Almeria OE ejercicio 9\n",
        "precio=float(input(\"Introduce el precio del articulo :\"))\n",
        "print(f\"Con el descuento se quedaria en : {precio-(precio*0.15)}\")"
      ],
      "metadata": {
        "colab": {
          "base_uri": "https://localhost:8080/"
        },
        "id": "ciWyREAIof6N",
        "outputId": "3079530c-31b0-48b5-9ed4-bf14a5eab954"
      },
      "execution_count": null,
      "outputs": [
        {
          "output_type": "stream",
          "name": "stdout",
          "text": [
            "Introduce el precio del articulo :100\n",
            "Con el descuento se quedaria en : 85.0\n"
          ]
        }
      ]
    },
    {
      "cell_type": "markdown",
      "source": [
        "\n",
        "\n",
        "### Ejercicio 10\n",
        "\n",
        "Un alumno desea saber cual será su calificación final en la materia de Algoritmos. Dicha calificación se compone de los siguientes porcentajes:\n",
        "\n",
        "* 55% del promedio de sus tres calificaciones parciales.\n",
        "* 30% de la calificación del examen final.\n",
        "* 15% de la calificación de un trabajo final."
      ],
      "metadata": {
        "id": "-L_EzflO194g"
      }
    },
    {
      "cell_type": "code",
      "source": [
        "# Almeria OE\n",
        "nota1=float(input(\"Introduce la nota primer trimestre : \"))\n",
        "nota2=float(input(\"Introduce la nota segundo trimestre : \"))\n",
        "nota3=float(input(\"Introduce la nota tercer trimestre : \"))\n",
        "examen=float (input(\"Introduce la nota del examen final : \"))\n",
        "trabajo=float (input(\"Introduce la nota del trabajo final : \"))\n",
        "notafinal=(((nota1+nota2+nota3)/3)*0.55)+(examen*0.3)+(trabajo*0.15)\n",
        "print(f\"La nota final es: {notafinal}\")\n"
      ],
      "metadata": {
        "colab": {
          "base_uri": "https://localhost:8080/"
        },
        "id": "ut4wmy_4pUWy",
        "outputId": "3ff036ef-487a-430d-f471-b03d4ac3e87a"
      },
      "execution_count": null,
      "outputs": [
        {
          "output_type": "stream",
          "name": "stdout",
          "text": [
            "Introduce la nota primer trimestre : 6\n",
            "Introduce la nota segundo trimestre : 7.5\n",
            "Introduce la nota tercer trimestre : 8\n",
            "Introduce la nota del examen final : 7\n",
            "Introduce la nota del trabajo final : 7\n",
            "La nota final es: 7.091666666666668\n"
          ]
        }
      ]
    },
    {
      "cell_type": "markdown",
      "source": [
        "\n",
        "\n",
        "### Ejercicio 11\n",
        "\n",
        "Pide al usuario dos números y muestra la “distancia” entre ellos (el valor absoluto de su diferencia, de modo que el resultado sea siempre positivo)."
      ],
      "metadata": {
        "id": "t55i8IkV4xBG"
      }
    },
    {
      "cell_type": "code",
      "source": [
        "#Almeria OE ejercicio11\n",
        "numero1=float(input(\"Introduce el nunero 1 : \"))\n",
        "numero2=float(input(\"Introduce el nunero 2 : \"))\n",
        "print(f\"El valor absoluto de su diferencia es : {abs(numero1-numero2)}\")"
      ],
      "metadata": {
        "colab": {
          "base_uri": "https://localhost:8080/"
        },
        "id": "HrRT-edxqt6W",
        "outputId": "86627224-389a-4407-e09d-85959c1ecb40"
      },
      "execution_count": null,
      "outputs": [
        {
          "output_type": "stream",
          "name": "stdout",
          "text": [
            "Introduce el nunero 1 : 6\n",
            "Introduce el nunero 2 : 2\n",
            "El valor absoluto de su diferencia es : 4.0\n"
          ]
        }
      ]
    },
    {
      "cell_type": "markdown",
      "source": [
        "\n",
        "\n",
        "### Ejercicio 12\n",
        "\n",
        "Pide al usuario dos pares de números x1,y1 y x2,y2, que representen dos puntos en el plano. Calcula y muestra la distancia entre ellos."
      ],
      "metadata": {
        "id": "owTQ_7A16so7"
      }
    },
    {
      "cell_type": "code",
      "source": [
        "#raiz cuadrada de  (x2-x1)^2 +(y2-y1)^2\n"
      ],
      "metadata": {
        "id": "EGoME66Prjz7"
      },
      "execution_count": null,
      "outputs": []
    },
    {
      "cell_type": "markdown",
      "source": [
        "\n",
        "\n",
        "### Ejercicio 13\n",
        "\n",
        "Realizar un algoritmos que lea un número y que muestre su raíz cuadrada y su raíz cúbica. **Python3 no tiene ninguna función predefinida que permita calcular la raíz cúbica, ¿Cómo se puede calcular?**"
      ],
      "metadata": {
        "id": "PAgNMbw-80_P"
      }
    },
    {
      "cell_type": "code",
      "source": [],
      "metadata": {
        "id": "-ELTGkWEr8XP"
      },
      "execution_count": null,
      "outputs": []
    },
    {
      "cell_type": "markdown",
      "source": [
        "### Ejercicio 14\n",
        "Dado un número de dos cifras, diseñe un algoritmo que permita obtener el número invertido. Ejemplo, si se introduce 23 que muestre 32."
      ],
      "metadata": {
        "id": "QbUbuL5L-g-j"
      }
    },
    {
      "cell_type": "code",
      "source": [
        "#Almeria OE Ejercicio 14\n",
        "numero=input(\"Introduce un numero : \")\n",
        "print(f\"El numero es {numero[1]}{numero[0]}\")\n"
      ],
      "metadata": {
        "colab": {
          "base_uri": "https://localhost:8080/"
        },
        "id": "vw9NxFvotYJy",
        "outputId": "45d67874-a10b-4039-daba-200be95bfc6b"
      },
      "execution_count": null,
      "outputs": [
        {
          "output_type": "stream",
          "name": "stdout",
          "text": [
            "Introduce un numero : 23\n",
            "El numero es 32\n"
          ]
        }
      ]
    },
    {
      "cell_type": "markdown",
      "source": [
        "### Ejercicio 15\n",
        "\n",
        "Dadas dos variables numéricas A y B, que el usuario debe teclear, se pide realizar un algoritmo que intercambie los valores de ambas variables y muestre cuanto valen al final las dos variables."
      ],
      "metadata": {
        "id": "bL1I2BhiMl8a"
      }
    },
    {
      "cell_type": "code",
      "source": [],
      "metadata": {
        "id": "Vt_nirC-utu-"
      },
      "execution_count": null,
      "outputs": []
    },
    {
      "cell_type": "markdown",
      "source": [
        "### Ejercicio 16\n",
        "\n",
        "Dos vehículos viajan a diferentes velocidades (v1 y v2) y están distanciados por una distancia d. El que está detrás viaja a una velocidad mayor. Se pide hacer un algoritmo para ingresar la distancia entre los dos vehículos (km) y sus respectivas velocidades (km/h) y con esto determinar y mostrar en que tiempo (minutos) alcanzará el vehículo más rápido al otro.\n",
        "\n",
        "$ V = \\frac {e}{t} $ luego $ t = \\frac {e}{V} $"
      ],
      "metadata": {
        "id": "Xt8VLg2aOxSs"
      }
    },
    {
      "cell_type": "markdown",
      "source": [
        "### Ejercicio 17\n",
        "\n",
        "Un ciclista parte de una ciudad A a las HH horas, MM minutos y SS segundos. El tiempo de viaje hasta llegar a otra ciudad B es de T segundos. Escribir un algoritmo que determine la hora de llegada a la ciudad B.\n",
        "\n"
      ],
      "metadata": {
        "id": "uQZIjnj0Uqoc"
      }
    },
    {
      "cell_type": "markdown",
      "source": [
        "### Ejercicio 18\n",
        "\n",
        "Pedir el nombre y los dos apellidos de una persona y mostrar las iniciales.\n"
      ],
      "metadata": {
        "id": "xzY1tElFcKua"
      }
    },
    {
      "cell_type": "markdown",
      "source": [
        "### Ejercicio 19\n",
        "\n",
        "Escribir un algoritmo para calcular la nota final de un estudiante, considerando que: por cada respuesta correcta 5 puntos, por una incorrecta -1 y por respuestas en blanco 0. Imprime el resultado obtenido por el estudiante."
      ],
      "metadata": {
        "id": "B9E19a4EdCIm"
      }
    },
    {
      "cell_type": "markdown",
      "source": [
        "### Ejercicio 20\n",
        "\n",
        "Diseñar un algoritmo que nos diga el dinero que tenemos (en euros y céntimos) después de pedirnos cuantas monedas tenemos (de 2€, 1€, 50 céntimos, 20 céntimos o 10 céntimos).\n",
        "\n"
      ],
      "metadata": {
        "id": "5Z1GKvepeU7g"
      }
    }
  ]
}